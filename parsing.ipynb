{
 "cells": [
  {
   "cell_type": "code",
   "execution_count": 49,
   "id": "c9cbd095",
   "metadata": {},
   "outputs": [
    {
     "name": "stdout",
     "output_type": "stream",
     "text": [
      "[{'link': 'https://spb.hh.ru/vacancy/101525768?query=python&hhtmFrom=vacancy_search_list', 'salary': 'до 470 000 ₽ на руки', 'name_of_company': 'Точка', 'city': 'Москва'}, {'link': 'https://spb.hh.ru/vacancy/101676685?query=python&hhtmFrom=vacancy_search_list', 'salary': 'Уровень дохода не указан', 'name_of_company': 'AldanDev', 'city': 'Москва'}, {'link': 'https://spb.hh.ru/vacancy/101864904?query=python&hhtmFrom=vacancy_search_list', 'salary': 'Уровень дохода не указан', 'name_of_company': 'ОООИНФОМЕДИА', 'city': 'Москва, Цветной бульвар, 25с5'}, {'link': 'https://spb.hh.ru/vacancy/102660978?query=python&hhtmFrom=vacancy_search_list', 'salary': 'Уровень дохода не указан', 'name_of_company': 'Admire', 'city': 'Москва'}]\n",
      "[]\n"
     ]
    }
   ],
   "source": [
    "# Парсим первую страницу\n",
    "import requests\n",
    "import re\n",
    "import json\n",
    "from bs4 import BeautifulSoup\n",
    "from fake_headers import Headers\n",
    "\n",
    "def get_headers():\n",
    "    return Headers(os='win', browser='chrome').generate()\n",
    "\n",
    "response = requests.get('https://spb.hh.ru/search/vacancy?text=python&area=1&area=2', headers=get_headers())\n",
    "html_data = response.text\n",
    "soup = BeautifulSoup(html_data, features = 'lxml')\n",
    "\n",
    "main_page = soup.find('div', id = 'a11y-main-content') # Получаем главную страницу \n",
    "vacancy_blocks = main_page.find_all('div', class_ = 'vacancy-card--z_UXteNo7bRGzxWVcL7y font-inter') # Получаем отдельные блоки с вакансиями\n",
    "\n",
    "# Задаем регулярные выражения для поиска слов в описании вакансии\n",
    "pattern1 = re.compile(r'Django', re.IGNORECASE)\n",
    "pattern2 = re.compile(r'Flask', re.IGNORECASE)\n",
    "\n",
    "result = []\n",
    "without_description=[] # Список на ссылки тех вакансий, где нет блока с описанием\n",
    "for elem in vacancy_blocks: # Цикл по каждому блоку\n",
    "    a_tag = elem.find('a', class_ = 'bloko-link') # Получаем элемент с тэгом \"а\"\n",
    "    absolute_link = a_tag['href'] # Получаем саму ссылку на вакансию\n",
    "\n",
    "    article_soup = BeautifulSoup(requests.get(absolute_link, headers=get_headers()).text) # Переходим по ссылке\n",
    "    salary = article_soup.find('span', class_ = 'magritte-text___pbpft_3-0-9 magritte-text_style-primary___AQ7MW_3-0-9 magritte-text_typography-label-1-regular___pi3R-_3-0-9').text.strip() # Получаем зарплату\n",
    "    cleaned_salary = salary.replace('\\xa0', ' ') # Удаляем ненужные символы в строке\n",
    "    # Получаем название компании и проверяем указана она или нет\n",
    "    name_of_company = article_soup.find('span', class_ = 'bloko-header-section-2 bloko-header-section-2_lite')\n",
    "    if name_of_company:\n",
    "        name_of_company = name_of_company.get_text(strip=True)\n",
    "    else:\n",
    "        name_of_company = \"Компания не указана\"\n",
    "    # Получаем город\n",
    "    city = article_soup.find('p', {'data-qa': 'vacancy-view-location'})\n",
    "    if city:\n",
    "        city = city.get_text(strip=True)\n",
    "    else:\n",
    "        city = article_soup.find('span', {'data-qa': 'vacancy-view-link-location-text'}).get_text()\n",
    "    \n",
    "    # Получаем описание и проверяем на существование \n",
    "    vacancy_description = article_soup.find('div', class_ = 'vacancy-description')\n",
    "    if not vacancy_description:\n",
    "        without_description.append(absolute_link)\n",
    "        continue\n",
    "    vacancy_description = vacancy_description.text\n",
    "    match1 = pattern1.search(vacancy_description)\n",
    "    match2 = pattern2.search(vacancy_description)\n",
    "    if match1 and match2: # Проверка на то, чтобы оба слова были в описании\n",
    "        result.append({\n",
    "            'link': absolute_link,\n",
    "            'salary': cleaned_salary,\n",
    "            'name_of_company': name_of_company,\n",
    "            'city': city\n",
    "        })\n",
    "        \n",
    "\n",
    "print(result)\n",
    "print(without_description) \n",
    "\n",
    "with open('data.json', 'w', encoding='utf-8') as f:\n",
    "    json.dump(result, f, ensure_ascii=False, indent=4)"
   ]
  }
 ],
 "metadata": {
  "kernelspec": {
   "display_name": "Python 3 (ipykernel)",
   "language": "python",
   "name": "python3"
  },
  "language_info": {
   "codemirror_mode": {
    "name": "ipython",
    "version": 3
   },
   "file_extension": ".py",
   "mimetype": "text/x-python",
   "name": "python",
   "nbconvert_exporter": "python",
   "pygments_lexer": "ipython3",
   "version": "3.12.1"
  }
 },
 "nbformat": 4,
 "nbformat_minor": 5
}
